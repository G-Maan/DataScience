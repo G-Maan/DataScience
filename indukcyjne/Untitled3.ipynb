{
 "cells": [
  {
   "cell_type": "code",
   "execution_count": 25,
   "metadata": {},
   "outputs": [],
   "source": [
    "import pandas as pd\n",
    "import numpy as np\n",
    "from sklearn.model_selection import train_test_split\n",
    "from sklearn.preprocessing import StandardScaler\n",
    "from sklearn.model_selection import train_test_split, KFold, StratifiedKFold, cross_validate\n",
    "from sklearn.naive_bayes import GaussianNB, MultinomialNB\n",
    "from sklearn.metrics import confusion_matrix\n",
    "from sklearn.metrics import f1_score\n",
    "from sklearn.metrics import accuracy_score\n",
    "import matplotlib.pyplot as plt\n",
    "import seaborn as sns\n",
    "import itertools\n",
    "%matplotlib inline"
   ]
  },
  {
   "cell_type": "code",
   "execution_count": 26,
   "metadata": {},
   "outputs": [],
   "source": [
    "data = pd.read_csv('pima-indians-diabetes.csv')"
   ]
  },
  {
   "cell_type": "code",
   "execution_count": 27,
   "metadata": {},
   "outputs": [],
   "source": [
    "X = data.iloc[:,:8]\n",
    "Y = data.iloc[:,8]"
   ]
  },
  {
   "cell_type": "code",
   "execution_count": 28,
   "metadata": {},
   "outputs": [],
   "source": [
    "skf = StratifiedKFold(n_splits=5)\n",
    "discretisation_mode = 'QCUT'\n",
    "bins_count = 5\n",
    "scoring = {'acc': 'accuracy', 'prec_macro': 'precision_macro', 'rec_micro': 'recall_macro', 'f1': 'f1_macro'}"
   ]
  },
  {
   "cell_type": "code",
   "execution_count": 29,
   "metadata": {},
   "outputs": [
    {
     "data": {
      "text/plain": [
       "{'fit_time': array([0.00100255, 0.00050163, 0.00050163, 0.00100255, 0.00100279]),\n",
       " 'score_time': array([0.00150394, 0.00150371, 0.00150394, 0.00100303, 0.00100255]),\n",
       " 'test_acc': array([0.64935065, 0.5974026 , 0.67532468, 0.68627451, 0.67973856]),\n",
       " 'test_f1': array([0.47933884, 0.44860245, 0.50691598, 0.54621849, 0.54155201]),\n",
       " 'test_prec_macro': array([0.58098592, 0.47089552, 0.68680556, 0.67753623, 0.65556569]),\n",
       " 'test_rec_micro': array([0.52555556, 0.48555556, 0.54981481, 0.56933962, 0.56433962]),\n",
       " 'train_acc': array([0.67752443, 0.69543974, 0.67263844, 0.67317073, 0.66829268]),\n",
       " 'train_f1': array([0.53491255, 0.58283649, 0.51101285, 0.54101921, 0.51597222]),\n",
       " 'train_prec_macro': array([0.6578219 , 0.68323952, 0.65689144, 0.6412844 , 0.6375    ]),\n",
       " 'train_rec_micro': array([0.56128505, 0.59241822, 0.54884346, 0.56267442, 0.54924419])}"
      ]
     },
     "execution_count": 29,
     "metadata": {},
     "output_type": "execute_result"
    }
   ],
   "source": [
    "def discretizate(mode, column, bin_count):\n",
    "    if mode == 'CUT':\n",
    "        return pd.cut(column, bin_count, labels=False)\n",
    "    elif mode == 'QCUT':\n",
    "        return pd.qcut(column, bin_count, labels=False, duplicates='drop')\n",
    "    elif mode == 'LOG':\n",
    "        return np.digitize(column, np.geomspace(1, np.max(column), num=10))\n",
    "    else:\n",
    "        return column\n",
    "\n",
    "# discretization\n",
    "for column in X:\n",
    "    bins = discretizate(discretisation_mode, X[column], bins_count)\n",
    "    X[column] = bins\n",
    "    data[column] = bins\n",
    "    \n",
    "model = MultinomialNB(alpha=1.0)\n",
    "\n",
    "cross_validate(model, X, Y, scoring=scoring, cv=skf, return_train_score=True)"
   ]
  }
 ],
 "metadata": {
  "kernelspec": {
   "display_name": "Python 3",
   "language": "python",
   "name": "python3"
  },
  "language_info": {
   "codemirror_mode": {
    "name": "ipython",
    "version": 3
   },
   "file_extension": ".py",
   "mimetype": "text/x-python",
   "name": "python",
   "nbconvert_exporter": "python",
   "pygments_lexer": "ipython3",
   "version": "3.6.4"
  }
 },
 "nbformat": 4,
 "nbformat_minor": 2
}
