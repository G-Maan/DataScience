{
 "cells": [
  {
   "cell_type": "code",
   "execution_count": 1,
   "metadata": {},
   "outputs": [],
   "source": [
    "from sklearn import datasets\n",
    "from sklearn.naive_bayes import GaussianNB, MultinomialNB\n",
    "from sklearn.metrics import f1_score\n",
    "from sklearn.model_selection import train_test_split, KFold, StratifiedKFold\n",
    "import pandas as pd\n",
    "import numpy as np\n",
    "import csv"
   ]
  },
  {
   "cell_type": "markdown",
   "metadata": {},
   "source": [
    "### Load dataset"
   ]
  },
  {
   "cell_type": "code",
   "execution_count": 3,
   "metadata": {},
   "outputs": [],
   "source": [
    "data = datasets.load_iris()\n",
    "x = data.data\n",
    "y = data.target"
   ]
  },
  {
   "cell_type": "code",
   "execution_count": 74,
   "metadata": {},
   "outputs": [
    {
     "data": {
      "text/plain": [
       "array([0.1       , 0.80909091, 1.51818182, 2.22727273, 2.93636364,\n",
       "       3.64545455, 4.35454545, 5.06363636, 5.77272727, 6.48181818,\n",
       "       7.19090909, 7.9       ])"
      ]
     },
     "execution_count": 74,
     "metadata": {},
     "output_type": "execute_result"
    }
   ],
   "source": [
    "hi,bin_edges = np.histogram(x, bins='auto')\n",
    "bin_edges"
   ]
  },
  {
   "cell_type": "markdown",
   "metadata": {},
   "source": [
    "### KFolds"
   ]
  },
  {
   "cell_type": "code",
   "execution_count": 156,
   "metadata": {},
   "outputs": [
    {
     "name": "stdout",
     "output_type": "stream",
     "text": [
      "KFold(n_splits=10, random_state=None, shuffle=True)\n"
     ]
    }
   ],
   "source": [
    "folds = 10\n",
    "kf = KFold(n_splits=folds, shuffle=True)\n",
    "print(kf)"
   ]
  },
  {
   "cell_type": "code",
   "execution_count": 165,
   "metadata": {
    "scrolled": true
   },
   "outputs": [
    {
     "name": "stdout",
     "output_type": "stream",
     "text": [
      "Accuracy: 95.33333333333334\n",
      "F1: 0.9463247863247866\n"
     ]
    }
   ],
   "source": [
    "sum = 0\n",
    "sum_f1 = 0\n",
    "for train_index, test_index in kf.split(x):\n",
    "    x_train, x_test = x[train_index], x[test_index]\n",
    "    y_train, y_test = y[train_index], y[test_index]\n",
    "    model = GaussianNB().fit(x_train, y_train)\n",
    "    y_pred = model.predict(x_test)\n",
    "    errors = (x_test.shape[0],(y_test != y_pred).sum())\n",
    "    accuracy = 100-errors[1]/errors[0]*100\n",
    "    sum += accuracy\n",
    "    sum_f1 += f1_score(y_test, y_pred, average='macro')\n",
    "average = sum/folds\n",
    "average_f1 = sum_f1/folds\n",
    "print('Accuracy:', average)\n",
    "print('F1:', average_f1)"
   ]
  },
  {
   "cell_type": "markdown",
   "metadata": {},
   "source": [
    "### StratifiedKFolds"
   ]
  },
  {
   "cell_type": "code",
   "execution_count": 143,
   "metadata": {},
   "outputs": [
    {
     "name": "stdout",
     "output_type": "stream",
     "text": [
      "StratifiedKFold(n_splits=10, random_state=11, shuffle=False)\n"
     ]
    }
   ],
   "source": [
    "folds = 10\n",
    "skf = StratifiedKFold(n_splits=folds, random_state=11)\n",
    "print(skf)"
   ]
  },
  {
   "cell_type": "code",
   "execution_count": 146,
   "metadata": {},
   "outputs": [
    {
     "name": "stdout",
     "output_type": "stream",
     "text": [
      "Accuracy: 95.33333333333333\n",
      "F1: 0.9524410774410773\n"
     ]
    }
   ],
   "source": [
    "sum = 0\n",
    "sum_f1 = 0\n",
    "for train_index, test_index in skf.split(x,y):\n",
    "    x_train, x_test = x[train_index], x[test_index]\n",
    "    y_train, y_test = y[train_index], y[test_index]\n",
    "    model = GaussianNB().fit(x_train, y_train)\n",
    "    y_pred = model.predict(x_test)\n",
    "    errors = (x_test.shape[0],(y_test != y_pred).sum())\n",
    "    accuracy = 100-errors[1]/errors[0]*100\n",
    "    sum += accuracy\n",
    "    sum_f1 += f1_score(y_test, y_pred, average='macro')\n",
    "average = sum/folds\n",
    "average_f1 = sum_f1/folds\n",
    "print('Accuracy:', average)\n",
    "print('F1:', average_f1)"
   ]
  },
  {
   "cell_type": "markdown",
   "metadata": {},
   "source": [
    "### Splitting 90/10 "
   ]
  },
  {
   "cell_type": "code",
   "execution_count": 7,
   "metadata": {},
   "outputs": [
    {
     "name": "stdout",
     "output_type": "stream",
     "text": [
      "Accuracy: 1.0\n"
     ]
    }
   ],
   "source": [
    "test_train_size = 0.1\n",
    "X_train, X_test, y_train, y_test = train_test_split(x, y, test_size=test_train_size, shuffle=True)\n",
    "# create model\n",
    "model = GaussianNB()\n",
    "fit = model.fit(X_train, y_train)\n",
    "print('Accuracy:', model.score(X_test, y_test))"
   ]
  },
  {
   "cell_type": "code",
   "execution_count": null,
   "metadata": {},
   "outputs": [],
   "source": []
  }
 ],
 "metadata": {
  "kernelspec": {
   "display_name": "Python 3",
   "language": "python",
   "name": "python3"
  },
  "language_info": {
   "codemirror_mode": {
    "name": "ipython",
    "version": 3
   },
   "file_extension": ".py",
   "mimetype": "text/x-python",
   "name": "python",
   "nbconvert_exporter": "python",
   "pygments_lexer": "ipython3",
   "version": "3.6.4"
  }
 },
 "nbformat": 4,
 "nbformat_minor": 2
}
