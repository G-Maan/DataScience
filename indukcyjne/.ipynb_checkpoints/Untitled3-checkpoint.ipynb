{
 "cells": [
  {
   "cell_type": "code",
   "execution_count": 67,
   "metadata": {},
   "outputs": [],
   "source": [
    "import pandas as pd\n",
    "import numpy as np\n",
    "from sklearn.model_selection import train_test_split\n",
    "from sklearn.preprocessing import StandardScaler\n",
    "from sklearn.model_selection import train_test_split, KFold, StratifiedKFold, cross_validate\n",
    "from sklearn.naive_bayes import GaussianNB, MultinomialNB, BernoulliNB\n",
    "from sklearn.metrics import confusion_matrix\n",
    "from sklearn.metrics import f1_score\n",
    "from sklearn.metrics import accuracy_score\n",
    "import matplotlib.pyplot as plt\n",
    "import seaborn as sns\n",
    "import itertools\n",
    "%matplotlib inline"
   ]
  },
  {
   "cell_type": "code",
   "execution_count": 389,
   "metadata": {},
   "outputs": [],
   "source": [
    "data = pd.read_csv('glass.csv')\n",
    "data = data.drop(['Id'],1)"
   ]
  },
  {
   "cell_type": "code",
   "execution_count": 390,
   "metadata": {},
   "outputs": [],
   "source": [
    "X = data.iloc[:,:9]\n",
    "Y = data.iloc[:,9]"
   ]
  },
  {
   "cell_type": "code",
   "execution_count": 445,
   "metadata": {},
   "outputs": [],
   "source": [
    "def discretization(mode, column, bin_count):\n",
    "    if mode == 'CUT':\n",
    "        return pd.cut(column, bin_count, labels=False)\n",
    "    elif mode == 'QCUT':\n",
    "        return pd.qcut(column, bin_count, labels=False, duplicates='drop')\n",
    "    else:\n",
    "        hist, bins_edges = np.histogram(column, bins=mode)\n",
    "        return np.digitize(column, bin_edges)"
   ]
  },
  {
   "cell_type": "code",
   "execution_count": 499,
   "metadata": {},
   "outputs": [],
   "source": [
    "data = pd.read_csv('glass.csv')\n",
    "X = data.iloc[:,:10]\n",
    "Y = data.iloc[:,10]\n",
    "folds = 2\n",
    "skf = StratifiedKFold(n_splits=folds)\n",
    "discretization_mode = 'QCUT' # CUT, QCUT, doane\n",
    "bins_count = 2\n",
    "scoring = {'acc': 'accuracy', 'f1': 'f1_macro'}"
   ]
  },
  {
   "cell_type": "code",
   "execution_count": 500,
   "metadata": {},
   "outputs": [
    {
     "name": "stdout",
     "output_type": "stream",
     "text": [
      "0.5134993446920052\n",
      "0.33011077608038714\n"
     ]
    },
    {
     "name": "stderr",
     "output_type": "stream",
     "text": [
      "C:\\ProgramData\\Anaconda3\\lib\\site-packages\\sklearn\\metrics\\classification.py:1135: UndefinedMetricWarning: F-score is ill-defined and being set to 0.0 in labels with no predicted samples.\n",
      "  'precision', 'predicted', average, warn_for)\n",
      "C:\\ProgramData\\Anaconda3\\lib\\site-packages\\sklearn\\metrics\\classification.py:1135: UndefinedMetricWarning: F-score is ill-defined and being set to 0.0 in labels with no predicted samples.\n",
      "  'precision', 'predicted', average, warn_for)\n"
     ]
    }
   ],
   "source": [
    "# discretization\n",
    "for column in X:\n",
    "    bins = discretization(discretization_mode, X[column], bins_count)\n",
    "    X[column] = bins\n",
    "    data[column] = bins\n",
    "    \n",
    "model = MultinomialNB()\n",
    "\n",
    "fit = cross_validate(model, X, Y, scoring=scoring, cv=skf, return_train_score=True)\n",
    "print(sum(fit['test_acc'])/folds)\n",
    "print(sum(fit['test_f1'])/folds)"
   ]
  },
  {
   "cell_type": "code",
   "execution_count": 64,
   "metadata": {
    "scrolled": true
   },
   "outputs": [
    {
     "data": {
      "text/plain": [
       "array([ 8,  3,  8,  3,  1,  8,  5, 10,  3,  8,  5, 10, 10,  3,  8,  8,  1,\n",
       "        8,  3,  3,  5,  8,  8, 10, 10, 10,  8,  3, 10,  8,  8,  5,  5,  8,\n",
       "       10,  5, 10, 10,  3,  5,  5,  8,  8, 10,  8,  1,  3,  3,  8,  8,  3,\n",
       "        3,  8,  8,  8,  3,  8,  1,  1,  1,  3,  8,  8,  3,  8,  8,  1,  3,\n",
       "        3,  5,  3,  8, 10,  5,  3,  3,  8,  8,  1,  3,  5,  3,  8,  1,  8,\n",
       "        3, 10,  3, 10,  3,  3,  5,  8,  5,  3,  8,  3,  3,  8,  3,  3,  3,\n",
       "        1,  3,  3,  3,  3,  5,  5,  1,  5,  8,  3,  5,  8,  5,  8,  8,  5,\n",
       "        5,  1,  8,  3,  8,  1,  3,  5,  3,  3,  1,  5, 10,  5,  8,  3,  3,\n",
       "        1,  1,  1,  8,  5,  8,  3, 10,  5,  1, 10,  3,  8,  3,  3,  5, 10,\n",
       "        3,  8,  8,  3,  3,  3, 13,  5,  8,  1,  3,  1,  8,  5,  5,  5,  5,\n",
       "        8,  8,  3,  3,  3,  8,  8,  1,  8,  8,  8,  1,  3,  8,  5,  8,  8,\n",
       "        3,  8,  8,  5, 10,  8, 10,  8,  8,  3,  5,  5,  5,  1,  3,  1,  3,\n",
       "        8,  8,  8,  8,  3,  8,  3,  1,  8,  1, 10, 10,  8,  8,  8,  8,  1,\n",
       "        3,  8,  8,  3,  3,  1,  5,  5,  1,  5,  8,  3,  5,  5,  5,  8,  1,\n",
       "       10,  1,  3,  5,  5,  8,  3, 10, 10,  1, 10,  3, 10,  3,  3,  1, 10,\n",
       "        3,  5,  3,  3, 10,  5,  5,  5,  5,  5,  8,  1,  3,  1,  3, 10,  3,\n",
       "        5,  3, 10,  3,  8,  1,  8,  3,  1, 10,  8,  8,  3,  8,  8,  3,  5,\n",
       "        8,  1,  1,  3,  3,  1,  8,  3,  1, 10,  8,  1,  3,  8,  8,  5,  3,\n",
       "       10,  1,  1,  3,  8,  1,  3,  5,  8,  3,  5,  5,  5,  8,  5,  5,  1,\n",
       "       10,  3,  3,  3, 10,  3,  8,  8,  3,  3, 10,  3,  1,  1,  8, 10,  8,\n",
       "        3,  3,  3,  8,  8,  8,  3,  5,  5,  8,  5,  5,  5,  3,  5, 10,  3,\n",
       "       10, 10,  3,  8,  8,  8,  5,  5,  8,  8,  1,  5,  3,  5,  1,  1,  3,\n",
       "        3, 10,  1,  3,  5,  1,  3,  1,  3,  3,  3,  3,  8,  8,  8,  5,  3,\n",
       "        8,  3,  5,  5,  3,  5,  1,  5,  5,  5,  8,  8, 10,  8,  3,  5,  1,\n",
       "        8,  3,  8,  3,  3,  3,  1,  5,  3,  5,  3,  5,  3,  3,  1,  3,  8,\n",
       "        5,  1,  3,  1,  3,  3,  5,  3,  3,  3,  1, 10,  8,  3,  8,  1,  3,\n",
       "        5,  8,  5,  1,  3,  1,  1,  1,  3,  3,  1,  3,  3, 10,  3,  8, 10,\n",
       "       10, 10,  3,  8,  8, 10,  1,  1,  1,  8,  8,  3,  1,  1,  8,  5,  1,\n",
       "        3,  8,  8,  5,  5,  1,  5,  1,  1,  1,  3,  1,  5,  8,  3,  3,  5,\n",
       "        5,  5,  8,  8,  3,  8,  8,  3,  5,  8,  8,  5, 10,  1,  3,  3,  8,\n",
       "       10,  1, 10,  3,  5,  5, 10,  8, 10,  8,  3,  5,  8, 10,  5,  5,  3,\n",
       "        5,  1,  1,  3,  1,  3,  8,  3,  5,  1,  1,  1,  5,  8,  5, 10,  5,\n",
       "        3,  8,  8,  5,  3,  5,  3,  5,  8,  3,  3,  8,  3,  8, 10, 10,  8,\n",
       "        1,  3,  8,  1,  3,  3,  8,  5,  1,  5,  3,  5,  3,  3,  3,  8,  3,\n",
       "       10,  3,  1,  8, 10,  8,  8,  3,  8,  8,  5,  1, 10,  3,  5,  3,  8,\n",
       "        1,  1,  3,  3,  3,  3,  8,  3,  8,  5,  3,  3,  3,  1,  3,  5,  5,\n",
       "        8,  8, 10,  5,  8,  3, 10,  1,  3,  3,  8,  1,  3,  5,  1,  1,  8,\n",
       "        5,  8,  1,  3,  3, 10, 10,  8,  3,  8,  3,  1,  5,  8,  5,  5,  3,\n",
       "        3,  1, 10,  1,  3,  3,  8,  3,  3,  3,  3,  3, 10,  5, 10,  3,  8,\n",
       "       10,  8,  3,  5, 10,  8, 10,  8,  3, 10,  5,  8,  8, 10,  1,  5,  3,\n",
       "        3,  1,  1,  5,  8,  3,  5,  3,  3,  3,  8, 10,  3,  8,  3,  8,  5,\n",
       "        1,  5,  5,  3,  8,  3,  3,  5,  8, 10,  3, 10,  3,  5,  8, 10,  1,\n",
       "        5,  8,  5, 10,  3,  8,  5,  3,  3,  8,  3,  5,  3,  1,  3,  3,  5,\n",
       "        8,  3,  3,  3,  5,  1,  8,  3,  3, 10,  5,  3, 10, 10, 10,  3,  3,\n",
       "        5,  8,  5,  3,  5,  1,  8,  3,  8,  1,  3,  8,  3, 10, 10, 10,  3,\n",
       "        8,  3,  3], dtype=int64)"
      ]
     },
     "execution_count": 64,
     "metadata": {},
     "output_type": "execute_result"
    }
   ],
   "source": [
    "hist,bins_edges = np.histogram(X['Pregnancies'], bins='fd')\n",
    "np.digitize(X['Pregnancies'], bins_edges)"
   ]
  },
  {
   "cell_type": "code",
   "execution_count": 293,
   "metadata": {},
   "outputs": [],
   "source": [
    "dataset2 = pd.read_csv('pima-indians-diabetes2.csv')\n",
    "X2 = dataset2.iloc[:,1:9]\n",
    "Y2 = dataset2.iloc[:,9]\n",
    "def convert_to_intervals(dataset):\n",
    "    for col in dataset:\n",
    "        index = 0\n",
    "        print(col)\n",
    "        for row in dataset[col]:\n",
    "            i = str(row).split('_to_')\n",
    "            for t in i:\n",
    "                t.replace('(','').replace('(','').replace(')','').replace(']','')\n",
    "#                 if t == '-inf':\n",
    "#                     t = min(data[col])\n",
    "#                 elif t == 'inf':\n",
    "#                     t = max(data[col])\n",
    "            i[0] = i[0].replace('-inf', str(min(data[col])))\n",
    "            i[1] = i[1].replace('inf', str(max(data[col])))\n",
    "            print(i)\n",
    "            interval = pd.Interval(i[0], i[1])\n",
    "            dataset[col][index] = interval\n",
    "            index += 1\n",
    "    return dataset"
   ]
  },
  {
   "cell_type": "code",
   "execution_count": 294,
   "metadata": {},
   "outputs": [
    {
     "name": "stdout",
     "output_type": "stream",
     "text": [
      "Pregnancies\n",
      "['0', '6.5']\n",
      "['0', '6.5']\n",
      "['6.5', '17']\n"
     ]
    },
    {
     "ename": "ValueError",
     "evalue": "left side of interval must be <= right side",
     "output_type": "error",
     "traceback": [
      "\u001b[1;31m---------------------------------------------------------------------------\u001b[0m",
      "\u001b[1;31mValueError\u001b[0m                                Traceback (most recent call last)",
      "\u001b[1;32m<ipython-input-294-f89e5e3d2248>\u001b[0m in \u001b[0;36m<module>\u001b[1;34m()\u001b[0m\n\u001b[0;32m      1\u001b[0m \u001b[1;31m# discretization\u001b[0m\u001b[1;33m\u001b[0m\u001b[1;33m\u001b[0m\u001b[0m\n\u001b[1;32m----> 2\u001b[1;33m \u001b[0mX2\u001b[0m \u001b[1;33m=\u001b[0m \u001b[0mconvert_to_intervals\u001b[0m\u001b[1;33m(\u001b[0m\u001b[0mX2\u001b[0m\u001b[1;33m)\u001b[0m\u001b[1;33m\u001b[0m\u001b[0m\n\u001b[0m\u001b[0;32m      3\u001b[0m \u001b[1;33m\u001b[0m\u001b[0m\n\u001b[0;32m      4\u001b[0m \u001b[0mmodel\u001b[0m \u001b[1;33m=\u001b[0m \u001b[0mGaussianNB\u001b[0m\u001b[1;33m(\u001b[0m\u001b[1;33m)\u001b[0m\u001b[1;33m\u001b[0m\u001b[0m\n\u001b[0;32m      5\u001b[0m \u001b[1;33m\u001b[0m\u001b[0m\n",
      "\u001b[1;32m<ipython-input-293-ded026426ac0>\u001b[0m in \u001b[0;36mconvert_to_intervals\u001b[1;34m(dataset)\u001b[0m\n\u001b[0;32m     17\u001b[0m             \u001b[0mi\u001b[0m\u001b[1;33m[\u001b[0m\u001b[1;36m1\u001b[0m\u001b[1;33m]\u001b[0m \u001b[1;33m=\u001b[0m \u001b[0mi\u001b[0m\u001b[1;33m[\u001b[0m\u001b[1;36m1\u001b[0m\u001b[1;33m]\u001b[0m\u001b[1;33m.\u001b[0m\u001b[0mreplace\u001b[0m\u001b[1;33m(\u001b[0m\u001b[1;34m'inf'\u001b[0m\u001b[1;33m,\u001b[0m \u001b[0mstr\u001b[0m\u001b[1;33m(\u001b[0m\u001b[0mmax\u001b[0m\u001b[1;33m(\u001b[0m\u001b[0mdata\u001b[0m\u001b[1;33m[\u001b[0m\u001b[0mcol\u001b[0m\u001b[1;33m]\u001b[0m\u001b[1;33m)\u001b[0m\u001b[1;33m)\u001b[0m\u001b[1;33m)\u001b[0m\u001b[1;33m\u001b[0m\u001b[0m\n\u001b[0;32m     18\u001b[0m             \u001b[0mprint\u001b[0m\u001b[1;33m(\u001b[0m\u001b[0mi\u001b[0m\u001b[1;33m)\u001b[0m\u001b[1;33m\u001b[0m\u001b[0m\n\u001b[1;32m---> 19\u001b[1;33m             \u001b[0minterval\u001b[0m \u001b[1;33m=\u001b[0m \u001b[0mpd\u001b[0m\u001b[1;33m.\u001b[0m\u001b[0mInterval\u001b[0m\u001b[1;33m(\u001b[0m\u001b[0mi\u001b[0m\u001b[1;33m[\u001b[0m\u001b[1;36m0\u001b[0m\u001b[1;33m]\u001b[0m\u001b[1;33m,\u001b[0m \u001b[0mi\u001b[0m\u001b[1;33m[\u001b[0m\u001b[1;36m1\u001b[0m\u001b[1;33m]\u001b[0m\u001b[1;33m)\u001b[0m\u001b[1;33m\u001b[0m\u001b[0m\n\u001b[0m\u001b[0;32m     20\u001b[0m             \u001b[0mdataset\u001b[0m\u001b[1;33m[\u001b[0m\u001b[0mcol\u001b[0m\u001b[1;33m]\u001b[0m\u001b[1;33m[\u001b[0m\u001b[0mindex\u001b[0m\u001b[1;33m]\u001b[0m \u001b[1;33m=\u001b[0m \u001b[0minterval\u001b[0m\u001b[1;33m\u001b[0m\u001b[0m\n\u001b[0;32m     21\u001b[0m             \u001b[0mindex\u001b[0m \u001b[1;33m+=\u001b[0m \u001b[1;36m1\u001b[0m\u001b[1;33m\u001b[0m\u001b[0m\n",
      "\u001b[1;32mpandas/_libs/interval.pyx\u001b[0m in \u001b[0;36mpandas._libs.interval.Interval.__init__\u001b[1;34m()\u001b[0m\n",
      "\u001b[1;31mValueError\u001b[0m: left side of interval must be <= right side"
     ]
    }
   ],
   "source": [
    "# discretization\n",
    "X2 = convert_to_intervals(X2)\n",
    "    \n",
    "model = GaussianNB()\n",
    "\n",
    "cross_validate(model, X2, Y2, scoring=scoring, cv=skf, return_train_score=True)"
   ]
  },
  {
   "cell_type": "code",
   "execution_count": null,
   "metadata": {},
   "outputs": [],
   "source": []
  }
 ],
 "metadata": {
  "kernelspec": {
   "display_name": "Python 3",
   "language": "python",
   "name": "python3"
  },
  "language_info": {
   "codemirror_mode": {
    "name": "ipython",
    "version": 3
   },
   "file_extension": ".py",
   "mimetype": "text/x-python",
   "name": "python",
   "nbconvert_exporter": "python",
   "pygments_lexer": "ipython3",
   "version": "3.6.4"
  }
 },
 "nbformat": 4,
 "nbformat_minor": 2
}
