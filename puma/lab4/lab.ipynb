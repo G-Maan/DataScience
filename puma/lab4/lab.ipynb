{
 "cells": [
  {
   "cell_type": "markdown",
   "metadata": {},
   "source": [
    "## Intro"
   ]
  },
  {
   "cell_type": "markdown",
   "metadata": {},
   "source": [
    "![title](./likelihood.png)"
   ]
  },
  {
   "cell_type": "code",
   "execution_count": 2,
   "metadata": {},
   "outputs": [],
   "source": [
    "import numpy as np\n",
    "import matplotlib.pyplot as plt\n",
    "\n",
    "def generate_hypotheses(max_num):\n",
    "    hypotheses = []\n",
    "#   1 2 -> 1 3 5 7 9\n",
    "#   1 3 -> 1 4 7\n",
    "    for i in range(1, max_num):\n",
    "        for j in range(2, max_num):\n",
    "            hypotheses.append(np.array([x for x in range(i, max_num, j)]))\n",
    "#             print('I: %s J: %s' % (i,j))\n",
    "    \n",
    "    return hypotheses\n",
    "\n",
    "def calculate_likelihood(num_arr, hyp_arr, N=1):\n",
    "    return (1 if all(np.isin(num_arr, hyp_arr)) else 0) / (hyp_arr.size ** N)\n",
    "\n",
    "def calculate_posterior(num_arr, hyp_arr, sum_likelihood, prior_func, N=1):\n",
    "    prior = prior_func(hyp_arr)\n",
    "    probability = calculate_likelihood(num_arr, hyp_arr, N=N)\n",
    "    return prior * probability / sum_likelihood\n",
    "\n",
    "def posteriori(numbers, hypotheses, prior_func, N=1):\n",
    "    sum_likelihood = np.sum([calculate_likelihood(numbers, h) for h in hypotheses])\n",
    "    return [(calculate_posterior(numbers, h, sum_likelihood, prior_func, N=N), h) for h in hypotheses]\n",
    "\n",
    "def sort(prob_arr):\n",
    "    prob_arr.sort(key=lambda column: column[0], reverse=True)\n",
    "    return prob_arr"
   ]
  },
  {
   "cell_type": "markdown",
   "metadata": {},
   "source": [
    "## 1. simple likelihood"
   ]
  },
  {
   "cell_type": "code",
   "execution_count": 6,
   "metadata": {},
   "outputs": [
    {
     "name": "stdout",
     "output_type": "stream",
     "text": [
      "Chance: 0.25 Hypotheses: [2 4 6 8]\n",
      "Chance: 0.2 Hypotheses: [ 2  4  6  8 10]\n",
      "Chance: 0.2 Hypotheses: [ 2  4  8 16 64]\n",
      "Chance: 0.14285714285714285 Hypotheses: [ 2  4  6  8 10 12 14]\n",
      "Chance: 0.1111111111111111 Hypotheses: [1 2 3 4 5 6 7 8 9]\n",
      "Chance: 0.0 Hypotheses: [1 3 5 7 9]\n",
      "Chance: 0.0 Hypotheses: [1 3 5 7 9]\n"
     ]
    }
   ],
   "source": [
    "# hypotheses = generate_hypotheses(20)\n",
    "max_num = 10\n",
    "hypotheses = [\n",
    "    np.array([2, 4, 6, 8, 10]),\n",
    "    np.array([2, 4, 6, 8, 10, 12, 14]),\n",
    "    np.array([1, 3, 5, 7, 9]),\n",
    "    np.array([2, 4, 8, 16, 64]),\n",
    "    np.array(list(range(2, max_num, 2))),\n",
    "    np.array(list(range(1, max_num, 1))),\n",
    "    np.array(list(range(1, max_num, 2)))\n",
    "]\n",
    "\n",
    "numbers = np.array([2,4,8])\n",
    "\n",
    "def likelihoods_and_hypotheses(numbers, hypotheses):\n",
    "    return [(calculate_likelihood(numbers, h), h) for h in hypotheses]\n",
    "\n",
    "likelihood_hypo_arr = likelihoods_and_hypotheses(numbers, hypotheses)\n",
    "sorted_prob = sort(likelihood_hypo_arr)\n",
    "for pr,hy in sorted_prob:\n",
    "    print('Chance: %s Hypotheses: %s' % (pr, hy))"
   ]
  },
  {
   "cell_type": "markdown",
   "metadata": {},
   "source": [
    "## 2. simple posterior"
   ]
  },
  {
   "cell_type": "code",
   "execution_count": 126,
   "metadata": {},
   "outputs": [
    {
     "name": "stdout",
     "output_type": "stream",
     "text": [
      "Probability: 1.0 Hypotheses: [2 4 6 8]\n",
      "Probability: 0.0 Hypotheses: [1 3 5 7 9]\n",
      "Probability: 0.0 Hypotheses: [1 4 7]\n",
      "Probability: 0.0 Hypotheses: [1 5 9]\n",
      "Probability: 0.0 Hypotheses: [1 6]\n",
      "Probability: 0.0 Hypotheses: [1 7]\n",
      "Probability: 0.0 Hypotheses: [1 8]\n",
      "Probability: 0.0 Hypotheses: [1 9]\n",
      "Probability: 0.0 Hypotheses: [1]\n",
      "Probability: 0.0 Hypotheses: [2 5 8]\n",
      "Probability: 0.0 Hypotheses: [2 6]\n",
      "Probability: 0.0 Hypotheses: [2 7]\n",
      "Probability: 0.0 Hypotheses: [2 8]\n",
      "Probability: 0.0 Hypotheses: [2 9]\n",
      "Probability: 0.0 Hypotheses: [2]\n",
      "Probability: 0.0 Hypotheses: [2]\n",
      "Probability: 0.0 Hypotheses: [3 5 7 9]\n",
      "Probability: 0.0 Hypotheses: [3 6 9]\n",
      "Probability: 0.0 Hypotheses: [3 7]\n",
      "Probability: 0.0 Hypotheses: [3 8]\n",
      "Probability: 0.0 Hypotheses: [3 9]\n",
      "Probability: 0.0 Hypotheses: [3]\n",
      "Probability: 0.0 Hypotheses: [3]\n",
      "Probability: 0.0 Hypotheses: [3]\n",
      "Probability: 0.0 Hypotheses: [4 6 8]\n",
      "Probability: 0.0 Hypotheses: [4 7]\n",
      "Probability: 0.0 Hypotheses: [4 8]\n",
      "Probability: 0.0 Hypotheses: [4 9]\n",
      "Probability: 0.0 Hypotheses: [4]\n",
      "Probability: 0.0 Hypotheses: [4]\n",
      "Probability: 0.0 Hypotheses: [4]\n",
      "Probability: 0.0 Hypotheses: [4]\n",
      "Probability: 0.0 Hypotheses: [5 7 9]\n",
      "Probability: 0.0 Hypotheses: [5 8]\n",
      "Probability: 0.0 Hypotheses: [5 9]\n",
      "Probability: 0.0 Hypotheses: [5]\n",
      "Probability: 0.0 Hypotheses: [5]\n",
      "Probability: 0.0 Hypotheses: [5]\n",
      "Probability: 0.0 Hypotheses: [5]\n",
      "Probability: 0.0 Hypotheses: [5]\n",
      "Probability: 0.0 Hypotheses: [6 8]\n",
      "Probability: 0.0 Hypotheses: [6 9]\n",
      "Probability: 0.0 Hypotheses: [6]\n",
      "Probability: 0.0 Hypotheses: [6]\n",
      "Probability: 0.0 Hypotheses: [6]\n",
      "Probability: 0.0 Hypotheses: [6]\n",
      "Probability: 0.0 Hypotheses: [6]\n",
      "Probability: 0.0 Hypotheses: [6]\n",
      "Probability: 0.0 Hypotheses: [7 9]\n",
      "Probability: 0.0 Hypotheses: [7]\n",
      "Probability: 0.0 Hypotheses: [7]\n",
      "Probability: 0.0 Hypotheses: [7]\n",
      "Probability: 0.0 Hypotheses: [7]\n",
      "Probability: 0.0 Hypotheses: [7]\n",
      "Probability: 0.0 Hypotheses: [7]\n",
      "Probability: 0.0 Hypotheses: [7]\n",
      "Probability: 0.0 Hypotheses: [8]\n",
      "Probability: 0.0 Hypotheses: [8]\n",
      "Probability: 0.0 Hypotheses: [8]\n",
      "Probability: 0.0 Hypotheses: [8]\n",
      "Probability: 0.0 Hypotheses: [8]\n",
      "Probability: 0.0 Hypotheses: [8]\n",
      "Probability: 0.0 Hypotheses: [8]\n",
      "Probability: 0.0 Hypotheses: [8]\n",
      "Probability: 0.0 Hypotheses: [9]\n",
      "Probability: 0.0 Hypotheses: [9]\n",
      "Probability: 0.0 Hypotheses: [9]\n",
      "Probability: 0.0 Hypotheses: [9]\n",
      "Probability: 0.0 Hypotheses: [9]\n",
      "Probability: 0.0 Hypotheses: [9]\n",
      "Probability: 0.0 Hypotheses: [9]\n",
      "Probability: 0.0 Hypotheses: [9]\n"
     ]
    }
   ],
   "source": [
    "def prior_even(numbers):\n",
    "    return np.count_nonzero(numbers % 2 == 0) / numbers.size\n",
    "\n",
    "numbers = np.array([2,4])\n",
    "hypo_arr = generate_hypotheses(10)\n",
    "\n",
    "res = posteriori(numbers, hypo_arr, prior_even)\n",
    "sorted_prob = sort(res)\n",
    "for pr, hyp in sorted_prob:\n",
    "    print('Probability: %s Hypotheses: %s' % (pr, hyp))"
   ]
  },
  {
   "cell_type": "markdown",
   "metadata": {},
   "source": [
    "## 4. MLE MAP"
   ]
  },
  {
   "cell_type": "code",
   "execution_count": 114,
   "metadata": {
    "scrolled": false
   },
   "outputs": [
    {
     "name": "stdout",
     "output_type": "stream",
     "text": [
      "[nan, 0.0, nan, nan, 0.0, 1.0, nan, 1.0, 1.0, 1.0, nan, 0.0, nan, nan, 0.0, 1.0, nan, 1.0, 1.0, 1.0, nan, 0.0, nan, nan, 0.0, 1.0, nan, nan, 1.0, 1.0, nan, 0.0, nan, nan, 0.0, 1.0, nan, 1.0, 1.0, 1.0, nan, 0.0, nan, nan, 0.0]\n",
      "0.04\n"
     ]
    },
    {
     "name": "stderr",
     "output_type": "stream",
     "text": [
      "C:\\ProgramData\\Anaconda3\\lib\\site-packages\\ipykernel_launcher.py:20: RuntimeWarning: invalid value encountered in double_scalars\n"
     ]
    },
    {
     "data": {
      "image/png": "[encoded data removed]",
      "text/plain": [
       "<matplotlib.figure.Figure at 0x1c57fb45cc0>"
      ]
     },
     "metadata": {},
     "output_type": "display_data"
    }
   ],
   "source": [
    "max_num = 10\n",
    "hypotheses = np.array([\n",
    "    [2, 4, 6, 8, 10],\n",
    "    [1, 3, 5, 7, 9],\n",
    "    [2, 4, 8, 16, 64],\n",
    "    list(range(2, max_num, 2)),\n",
    "    list(range(1, max_num, 1))\n",
    "])\n",
    "\n",
    "likelihood_arr = []\n",
    "posterior_arr = []\n",
    "numbers = np.array(list(range(1, max_num)))\n",
    "\n",
    "for number in numbers:\n",
    "    for hyp in hypotheses:\n",
    "        likelihood = calculate_likelihood([number], np.array(hyp), N=number)\n",
    "#         posterior_arr.append(res_posterior / hypotheses.size)\n",
    "        likelihood_arr.append(likelihood / hypotheses.size)\n",
    "#         res_posterior = posteriori(numbers, hypotheses, prior_even, N=number)\n",
    "        res_posterior = posteriori([number], np.array(hyp), prior_even, N=number)\n",
    "        posterior_arr.append(max(res_posterior))\n",
    "\n",
    "post_res = []\n",
    "for i,j in posterior_arr:\n",
    "    post_res.append(i)\n",
    "print((post_res))\n",
    "print(max(likelihood_arr))\n",
    "\n",
    "plt.plot(likelihood_arr)\n",
    "# plt.plot(post_res)\n",
    "plt.show()"
   ]
  }
 ],
 "metadata": {
  "kernelspec": {
   "display_name": "Python 3",
   "language": "python",
   "name": "python3"
  },
  "language_info": {
   "codemirror_mode": {
    "name": "ipython",
    "version": 3
   },
   "file_extension": ".py",
   "mimetype": "text/x-python",
   "name": "python",
   "nbconvert_exporter": "python",
   "pygments_lexer": "ipython3",
   "version": "3.6.4"
  }
 },
 "nbformat": 4,
 "nbformat_minor": 2
}
