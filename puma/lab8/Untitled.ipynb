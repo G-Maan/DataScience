{
 "cells": [
  {
   "cell_type": "code",
   "execution_count": 1,
   "metadata": {},
   "outputs": [],
   "source": [
    "import numpy as np\n",
    "import matplotlib.pyplot as plt\n",
    "import matplotlib.animation as animation\n",
    "from IPython.display import HTML\n",
    "from collections import Counter"
   ]
  },
  {
   "cell_type": "code",
   "execution_count": 2,
   "metadata": {},
   "outputs": [],
   "source": [
    "def likelihood(theta, N, K):\n",
    "    print('Theta:', theta)\n",
    "    print('N:', N)\n",
    "    print('K:', K)\n",
    "    result = 1\n",
    "    for k in range(K):\n",
    "        if N[k]:\n",
    "            result *= theta[k] ** N[k]\n",
    "    return result\n",
    "    \n",
    "def prior(theta, K, concentration):\n",
    "    result = 1\n",
    "    for k in range(K):\n",
    "        result *= theta[k] ** (concentration[k]-1)\n",
    "    return result\n",
    "\n",
    "def posterior(theta, N, K, concentration):\n",
    "    result = 1\n",
    "    for k in range(K):\n",
    "        result *= theta[k] ** (concentration[k] + N[k] - 1)\n",
    "    return result\n",
    "    \n",
    "def count_likelihood(domain):\n",
    "    counter = Counter(domain)\n",
    "    return counter"
   ]
  },
  {
   "cell_type": "code",
   "execution_count": 3,
   "metadata": {},
   "outputs": [
    {
     "name": "stdout",
     "output_type": "stream",
     "text": [
      "Theta: [6.28655924e-01 1.40452508e-02 2.13126171e-01 2.73113577e-02\n",
      " 7.23502010e-09 1.16861289e-01]\n",
      "N: Counter({3: 3, 2: 2, 1: 2, 4: 2, 5: 1})\n",
      "K: 2\n"
     ]
    },
    {
     "data": {
      "text/plain": [
       "<Container object of 6 artists>"
      ]
     },
     "execution_count": 3,
     "metadata": {},
     "output_type": "execute_result"
    },
    {
     "data": {
      "image/png": "[encoded data removed]",
      "text/plain": [
       "<matplotlib.figure.Figure at 0x2ae547be7b8>"
      ]
     },
     "metadata": {},
     "output_type": "display_data"
    }
   ],
   "source": [
    "K = 2\n",
    "N = 10\n",
    "theta = np.random.dirichlet([np.random.random()] * 6)\n",
    "domain = []\n",
    "for _ in range(N):\n",
    "    domain.append(np.random.randint(1,6))\n",
    "likelihood_map = count_likelihood(domain)\n",
    "concentration_parameter = []\n",
    "for _ in range(N):\n",
    "    concentration_parameter.append(np.random.randint(1,20))\n",
    "likelihood_result = likelihood(theta, likelihood_map, K)\n",
    "prior_result = prior(theta, K, concentration_parameter)\n",
    "posterior_result = posterior(theta, likelihood_map, K, concentration_parameter)\n",
    "\n",
    "plt.xlabel('Die roll')\n",
    "plt.ylabel('Probability')\n",
    "plt.bar(range(6), theta)"
   ]
  },
  {
   "cell_type": "code",
   "execution_count": 4,
   "metadata": {},
   "outputs": [
    {
     "data": {
      "text/plain": [
       "3.627481105952275e-18"
      ]
     },
     "execution_count": 4,
     "metadata": {},
     "output_type": "execute_result"
    }
   ],
   "source": [
    "posterior_result"
   ]
  },
  {
   "cell_type": "code",
   "execution_count": 5,
   "metadata": {},
   "outputs": [],
   "source": [
    "def posterior_predictive(concentration, N, j):\n",
    "    denominator = 0\n",
    "    for k in range(K):\n",
    "        denominator += concentration[k] + N[k]\n",
    "    numerator = concentration[j] + N[j]\n",
    "    return numerator / denominator"
   ]
  },
  {
   "cell_type": "code",
   "execution_count": 6,
   "metadata": {},
   "outputs": [
    {
     "data": {
      "text/plain": [
       "0.2608695652173913"
      ]
     },
     "execution_count": 6,
     "metadata": {},
     "output_type": "execute_result"
    }
   ],
   "source": [
    "posterior_predictive(concentration_parameter, likelihood_map, 2)"
   ]
  },
  {
   "cell_type": "code",
   "execution_count": 7,
   "metadata": {},
   "outputs": [
    {
     "name": "stdout",
     "output_type": "stream",
     "text": [
      "Apples 8566208034543834098 apple\n",
      "and 2283656566040971221 and\n",
      "oranges 2208928596161743350 orange\n",
      "are 10382539506755952630 be\n",
      "similar 18166476740537071113 similar\n",
      ". 12646065887601541794 .\n",
      "Boots 9918665227421442029 boot\n",
      "and 2283656566040971221 and\n",
      "hippos 6542994350242320795 hippo\n",
      "are 10382539506755952630 be\n",
      "n't 447765159362469301 not\n",
      ". 12646065887601541794 .\n"
     ]
    }
   ],
   "source": [
    "import spacy\n",
    "nlp = spacy.load('en')\n",
    "\n",
    "doc = nlp(u\"Apples and oranges are similar. Boots and hippos aren't.\")\n",
    "\n",
    "for token in doc:\n",
    "    print(token, token.lemma, token.lemma_)"
   ]
  },
  {
   "cell_type": "code",
   "execution_count": 8,
   "metadata": {},
   "outputs": [
    {
     "name": "stdout",
     "output_type": "stream",
     "text": [
      "{0: ('apple', 1), 1: ('and', 2), 2: ('orange', 1), 3: ('be', 2), 4: ('similar', 1), 5: ('.', 2), 6: ('boot', 1), 7: ('hippo', 1), 8: ('not', 1)}\n"
     ]
    }
   ],
   "source": [
    "words = []\n",
    "for token in doc:\n",
    "    words.append(token.lemma_)\n",
    "word_counter = Counter(words)\n",
    "words_count = {}\n",
    "i = 0\n",
    "for x,y in word_counter.items():\n",
    "    words_count[i] = (x,y)\n",
    "    i += 1\n",
    "print(words_count)"
   ]
  },
  {
   "cell_type": "code",
   "execution_count": 9,
   "metadata": {},
   "outputs": [
    {
     "name": "stdout",
     "output_type": "stream",
     "text": [
      "['all cat in a row', 'when cat sit down , look like a furby toy !', 'the cat from outer space', 'sunshine love to sit like this for some reason .']\n",
      "[[1 1 0 0 0 0 1 0 0 0 0 0 1 0 0 0 0 0 0 0 0 0]\n",
      " [0 1 1 0 0 1 0 1 1 0 0 0 0 1 0 0 0 0 0 0 1 1]\n",
      " [0 1 0 0 1 0 0 0 0 0 1 0 0 0 0 1 0 1 0 0 0 0]\n",
      " [0 0 0 1 0 0 0 1 0 1 0 1 0 1 1 0 1 0 1 1 0 0]]\n",
      "{'all': 0, 'cat': 1, 'in': 6, 'row': 12, 'when': 21, 'sit': 13, 'down': 2, 'look': 8, 'like': 7, 'furby': 5, 'toy': 20, 'the': 17, 'from': 4, 'outer': 10, 'space': 15, 'sunshine': 16, 'love': 9, 'to': 19, 'this': 18, 'for': 3, 'some': 14, 'reason': 11}\n"
     ]
    }
   ],
   "source": [
    "from sklearn.feature_extraction.text import CountVectorizer\n",
    " \n",
    "corpus = [\n",
    "'All my cats in a row',\n",
    "'When my cat sits down, she looks like a Furby toy!',\n",
    "'The cat from outer space',\n",
    "'Sunshine loves to sit like this for some reason.'\n",
    "]\n",
    "\n",
    "new_doc = []\n",
    "for sentence in corpus:\n",
    "    temp_doc = nlp(sentence)\n",
    "    temp_sentence = ''\n",
    "    not_new_sentence = False\n",
    "    for token in temp_doc:\n",
    "        if token.lemma_ != '-PRON-':\n",
    "            if not_new_sentence:\n",
    "                temp_sentence += ' '\n",
    "            temp_sentence += token.lemma_\n",
    "            not_new_sentence = True\n",
    "        \n",
    "    new_doc.append(temp_sentence)\n",
    "print(new_doc)\n",
    "\n",
    "vectorizer = CountVectorizer()\n",
    "print( vectorizer.fit_transform(new_doc).todense() )\n",
    "print( vectorizer.vocabulary_ )"
   ]
  },
  {
   "cell_type": "markdown",
   "metadata": {},
   "source": [
    "### Visualize Dirichlet"
   ]
  },
  {
   "cell_type": "code",
   "execution_count": 10,
   "metadata": {},
   "outputs": [],
   "source": [
    "%matplotlib inline\n",
    "import matplotlib.pyplot as plt\n",
    "import matplotlib.tri as tri\n",
    "import math\n",
    "from functools import reduce\n",
    "\n",
    "corners = np.array([[0, 0], [1, 0], [0.5, 0.75**0.5]])\n",
    "triangle = tri.Triangulation(corners[:, 0], corners[:, 1])"
   ]
  },
  {
   "cell_type": "code",
   "execution_count": 11,
   "metadata": {},
   "outputs": [
    {
     "data": {
      "image/png": "[encoded data removed]",
      "text/plain": [
       "<matplotlib.figure.Figure at 0x2ae609364a8>"
      ]
     },
     "metadata": {},
     "output_type": "display_data"
    }
   ],
   "source": [
    "refiner = tri.UniformTriRefiner(triangle)\n",
    "trimesh = refiner.refine_triangulation(subdiv=4)\n",
    "\n",
    "plt.figure(figsize=(8, 4))\n",
    "for (i, mesh) in enumerate((triangle, trimesh)):\n",
    "    plt.subplot(1, 2, i+ 1)\n",
    "    plt.triplot(mesh)\n",
    "    plt.axis('off')\n",
    "    plt.axis('equal')"
   ]
  },
  {
   "cell_type": "code",
   "execution_count": 12,
   "metadata": {},
   "outputs": [],
   "source": [
    "# Mid-points of triangle sides opposite of each corner\n",
    "midpoints = [(corners[(i + 1) % 3] + corners[(i + 2) % 3]) / 2.0 \\\n",
    "             for i in range(3)]\n",
    "def xy2bc(xy, tol=1.e-3):\n",
    "    '''Converts 2D Cartesian coordinates to barycentric.'''\n",
    "    s = [(corners[i] - midpoints[i]).dot(xy - midpoints[i]) / 0.75 \\\n",
    "         for i in range(3)]\n",
    "    return np.clip(s, tol, 1.0 - tol)"
   ]
  },
  {
   "cell_type": "code",
   "execution_count": 13,
   "metadata": {},
   "outputs": [],
   "source": [
    "class Dirichlet(object):\n",
    "    def __init__(self, alpha):\n",
    "        from math import gamma\n",
    "        from operator import mul\n",
    "        self._alpha = np.array(alpha)\n",
    "        self._coef = gamma(np.sum(self._alpha)) / \\\n",
    "                     reduce(mul, [gamma(a) for a in self._alpha])\n",
    "    def pdf(self, x):\n",
    "        '''Returns pdf value for `x`.'''\n",
    "        from operator import mul\n",
    "        return self._coef * reduce(mul, [xx ** (aa - 1)\n",
    "                                         for (xx, aa)in zip(x, self._alpha)])"
   ]
  },
  {
   "cell_type": "code",
   "execution_count": 14,
   "metadata": {},
   "outputs": [],
   "source": [
    "def draw_pdf(dist, nlevels=200, subdiv=8, **kwargs):\n",
    "    import math\n",
    "\n",
    "    refiner = tri.UniformTriRefiner(triangle)\n",
    "    trimesh = refiner.refine_triangulation(subdiv=subdiv)\n",
    "    pvals = [dist.pdf(xy2bc(xy)) for xy in zip(trimesh.x, trimesh.y)]\n",
    "\n",
    "    plt.tricontourf(trimesh, pvals, nlevels, **kwargs)\n",
    "    plt.axis('equal')\n",
    "    plt.xlim(0, 1)\n",
    "    plt.ylim(0, 0.75**0.5)\n",
    "    plt.axis('off')"
   ]
  },
  {
   "cell_type": "code",
   "execution_count": 15,
   "metadata": {},
   "outputs": [
    {
     "data": {
      "image/png": "[encoded data removed]",
      "text/plain": [
       "<matplotlib.figure.Figure at 0x2ae609625c0>"
      ]
     },
     "metadata": {},
     "output_type": "display_data"
    }
   ],
   "source": [
    "draw_pdf(Dirichlet([20, 20, 20]))"
   ]
  },
  {
   "cell_type": "code",
   "execution_count": 124,
   "metadata": {},
   "outputs": [
    {
     "name": "stdout",
     "output_type": "stream",
     "text": [
      "[1, 10, 3, 2, 3, 2, 3, 2, 1, 10, 3, 2, 10, 5, 10, 6, 8]\n",
      "{1: 2, 10: 4, 3: 4, 2: 4, 5: 1, 6: 1, 8: 1}\n",
      "{'mary': 2, 'unk': 4, 'little': 4, 'lamb': 4, 'fleece': 1, 'white': 1, 'snow': 1}\n",
      "Posterior: [0.1111111111111111, 0.18518518518518517, 0.18518518518518517, 0.037037037037037035, 0.07407407407407407, 0.07407407407407407, 0.037037037037037035, 0.07407407407407407, 0.037037037037037035, 0.18518518518518517]\n",
      "\n",
      "Highest probability: 0.19% of word 'unk'\n"
     ]
    },
    {
     "data": {
      "text/plain": [
       "Text(0.5,0,'Indexes')"
      ]
     },
     "execution_count": 124,
     "metadata": {},
     "output_type": "execute_result"
    },
    {
     "data": {
      "image/png": "[encoded data removed]",
      "text/plain": [
       "<matplotlib.figure.Figure at 0x2ae6fcda588>"
      ]
     },
     "metadata": {},
     "output_type": "display_data"
    }
   ],
   "source": [
    "import seaborn as sns\n",
    "#sentence = 'Mary had a little lamb, little lamb, little lamb, Mary had a little lamb, its fleece as white as snow'\n",
    "#sequence = sentence.split(' ')\n",
    "stemmed_sentence = 'mary had little lamb little lamb little lamb mary had little lamb it fleece as white snow'\n",
    "stemmed_sequence = stemmed_sentence.split(' ')\n",
    "#mary lamb little big fleece white black snow rain unk\n",
    "#1 2 3 4 5 6 7 8 9 10\n",
    "word_dict = {'mary': 1, 'lamb': 2, 'little': 3, 'big': 4, 'fleece': 5, 'white': 6, 'black': 7, 'snow': 8, 'rain': 9, 'unk': 10}\n",
    "\n",
    "def create_index_vector(sequence, word_dictionary):\n",
    "    vector = []\n",
    "    for word in sequence:\n",
    "        index = word_dictionary.get(word)\n",
    "        if index is None:\n",
    "            vector.append(word_dictionary.get('unk'))\n",
    "        else:\n",
    "            vector.append(index)\n",
    "    return vector\n",
    "\n",
    "def count_occurences(index_vector):\n",
    "    index_count_dict = {}\n",
    "    for index in index_vector:\n",
    "        if not index in index_count_dict:\n",
    "            index_count_dict[index] = 1\n",
    "        else:\n",
    "            index_count_dict[index] += 1\n",
    "    return index_count_dict\n",
    "    \n",
    "def index_meanings(index_occurences, word_dict):\n",
    "    word_occurences = {}\n",
    "    for index in index_occurences:\n",
    "        for key, val in word_dict.items():\n",
    "            if val == index:\n",
    "                word = key\n",
    "        word_occurences[word] = index_occurences[index]\n",
    "    return word_occurences\n",
    "        \n",
    "def posterior_predictive_bag_of_words(sentence, word_dict, alpha=1.0):\n",
    "    sequence = sentence.split(' ')\n",
    "    index_vector = create_index_vector(sequence, word_dict)\n",
    "    index_occurences = count_occurences(index_vector)\n",
    "\n",
    "    words_len = len(index_vector)\n",
    "    language_len = len(word_dict)\n",
    "    \n",
    "    posterior = []\n",
    "    for index in word_dict.values():\n",
    "        if index in index_occurences:\n",
    "            count = index_occurences[index]\n",
    "        else:\n",
    "            count = 0\n",
    "        res = (1 + count) / (words_len + language_len)\n",
    "        posterior.append(res)\n",
    "    return posterior\n",
    "    \n",
    "def max_probability(prob_dict):\n",
    "    max_prob = 0\n",
    "    max_prob_index = 0\n",
    "    current_index = 1\n",
    "    for value in prob_dict:\n",
    "        if value >= max_prob:\n",
    "            max_prob_index = current_index\n",
    "            max_prob = value\n",
    "        current_index += 1\n",
    "    return max_prob, max_prob_index\n",
    "    \n",
    "def get_word_from_index(word_dict, index):\n",
    "    word = ''\n",
    "    for key,val in word_dict.items():\n",
    "        if index == val:\n",
    "            word = key\n",
    "    return word\n",
    "\n",
    "index_vector = create_index_vector(sequence=stemmed_sequence, word_dictionary=word_dict)\n",
    "print(index_vector)\n",
    "index_occurences = count_occurences(index_vector=index_vector)\n",
    "print(index_occurences)\n",
    "word_occurences = index_meanings(index_occurences, word_dict)\n",
    "print(word_occurences)\n",
    "\n",
    "posterior = posterior_predictive_bag_of_words(stemmed_sentence, word_dict)\n",
    "print('Posterior:', posterior)\n",
    "max_prob, max_prob_index = max_probability(posterior) \n",
    "print('\\nHighest probability: %.2f%% of word \\'%s\\'' % (max_prob, get_word_from_index(word_dict, max_prob_index)))\n",
    "\n",
    "fig = sns.countplot(index_vector)\n",
    "plt.xlabel('Indexes')"
   ]
  },
  {
   "cell_type": "markdown",
   "metadata": {},
   "source": [
    "### Bag of words"
   ]
  },
  {
   "cell_type": "code",
   "execution_count": 30,
   "metadata": {},
   "outputs": [],
   "source": [
    "from sklearn.datasets import fetch_20newsgroups\n",
    "twenty_train = fetch_20newsgroups(subset='train', shuffle=True)"
   ]
  },
  {
   "cell_type": "code",
   "execution_count": 17,
   "metadata": {},
   "outputs": [
    {
     "name": "stdout",
     "output_type": "stream",
     "text": [
      "From: lerxst@wam.umd.edu (where's my thing)\n",
      "Subject: WHAT car is this!?\n",
      "Nntp-Posting-Host: rac3.wam.umd.edu\n",
      "Organization: University of Maryland, College Park\n",
      "Lines: 15\n",
      "\n",
      " I was wondering if anyone out there could enlighten me on this car I saw\n",
      "the other day. It was a 2-door sports car, looked to be from the late 60s/\n",
      "early 70s. It was called a Bricklin. The doors were really small. In addition,\n",
      "the front bumper was separate from the rest of the body. This is \n",
      "all I know. If anyone can tellme a model name, engine specs, years\n",
      "of production, where this car is made, history, or whatever info you\n",
      "have on this funky looking car, please e-mail.\n",
      "\n",
      "Thanks,\n",
      "- IL\n",
      "   ---- brought to you by your neighborhood Lerxst ----\n",
      "\n",
      "\n",
      "\n",
      "\n",
      "\n"
     ]
    }
   ],
   "source": [
    "twenty_train.target_names #prints all the categories\n",
    "print(\"\\n\".join(twenty_train.data[0].split(\"\\n\")[:])) #prints first line of the first data file"
   ]
  },
  {
   "cell_type": "code",
   "execution_count": 18,
   "metadata": {},
   "outputs": [
    {
     "data": {
      "text/plain": [
       "(11314, 130107)"
      ]
     },
     "execution_count": 18,
     "metadata": {},
     "output_type": "execute_result"
    }
   ],
   "source": [
    "from sklearn.feature_extraction.text import CountVectorizer\n",
    "count_vect = CountVectorizer()\n",
    "X_train_counts = count_vect.fit_transform(twenty_train.data)\n",
    "X_train_counts.shape"
   ]
  },
  {
   "cell_type": "code",
   "execution_count": 19,
   "metadata": {},
   "outputs": [
    {
     "data": {
      "text/plain": [
       "(11314, 130107)"
      ]
     },
     "execution_count": 19,
     "metadata": {},
     "output_type": "execute_result"
    }
   ],
   "source": [
    "from sklearn.feature_extraction.text import TfidfTransformer\n",
    "tfidf_transformer = TfidfTransformer()\n",
    "X_train_tfidf = tfidf_transformer.fit_transform(X_train_counts)\n",
    "X_train_tfidf.shape"
   ]
  },
  {
   "cell_type": "code",
   "execution_count": 20,
   "metadata": {},
   "outputs": [],
   "source": [
    "from sklearn.naive_bayes import MultinomialNB\n",
    "clf = MultinomialNB().fit(X_train_tfidf, twenty_train.target)"
   ]
  },
  {
   "cell_type": "code",
   "execution_count": 21,
   "metadata": {},
   "outputs": [],
   "source": [
    "from sklearn.pipeline import Pipeline\n",
    "text_clf = Pipeline([('vect', CountVectorizer()),\n",
    "                      ('tfidf', TfidfTransformer()),\n",
    "                      ('clf', MultinomialNB()),\n",
    "])\n",
    "text_clf = text_clf.fit(twenty_train.data, twenty_train.target)"
   ]
  },
  {
   "cell_type": "code",
   "execution_count": 22,
   "metadata": {},
   "outputs": [
    {
     "data": {
      "text/plain": [
       "0.7738980350504514"
      ]
     },
     "execution_count": 22,
     "metadata": {},
     "output_type": "execute_result"
    }
   ],
   "source": [
    "import numpy as np\n",
    "twenty_test = fetch_20newsgroups(subset='test', shuffle=True)\n",
    "predicted = text_clf.predict(twenty_test.data)\n",
    "np.mean(predicted == twenty_test.target)"
   ]
  },
  {
   "cell_type": "markdown",
   "metadata": {},
   "source": [
    "### Bag of words class prediction"
   ]
  },
  {
   "cell_type": "code",
   "execution_count": 23,
   "metadata": {},
   "outputs": [
    {
     "name": "stdout",
     "output_type": "stream",
     "text": [
      "From: sd345@city.ac.uk (Michael Collier)\n",
      "Subject: Converting images to HP LaserJet III?\n",
      "Nntp-Posting-Host: hampton\n",
      "comp.graphics\n",
      "comp.graphics\n",
      "comp.graphics\n",
      "soc.religion.christian\n",
      "soc.religion.christian\n",
      "soc.religion.christian\n",
      "soc.religion.christian\n",
      "soc.religion.christian\n",
      "sci.med\n",
      "sci.med\n",
      "sci.med\n"
     ]
    }
   ],
   "source": [
    "categories = ['alt.atheism', 'soc.religion.christian', 'comp.graphics', 'sci.med']\n",
    "twenty_train = fetch_20newsgroups(subset='train',\n",
    "    categories=categories, shuffle=True, random_state=42)\n",
    "twenty_train.target_names\n",
    "print(\"\\n\".join(twenty_train.data[0].split(\"\\n\")[:3]))\n",
    "print(twenty_train.target_names[twenty_train.target[0]])\n",
    "twenty_train.target[:10]\n",
    "for t in twenty_train.target[:10]:\n",
    "    print(twenty_train.target_names[t])"
   ]
  },
  {
   "cell_type": "code",
   "execution_count": 24,
   "metadata": {},
   "outputs": [
    {
     "data": {
      "text/plain": [
       "(2257, 35788)"
      ]
     },
     "execution_count": 24,
     "metadata": {},
     "output_type": "execute_result"
    }
   ],
   "source": [
    "from sklearn.feature_extraction.text import CountVectorizer\n",
    "count_vect = CountVectorizer()\n",
    "X_train_counts = count_vect.fit_transform(twenty_train.data)\n",
    "X_train_counts.shape"
   ]
  },
  {
   "cell_type": "code",
   "execution_count": 25,
   "metadata": {},
   "outputs": [
    {
     "data": {
      "text/plain": [
       "(2257, 35788)"
      ]
     },
     "execution_count": 25,
     "metadata": {},
     "output_type": "execute_result"
    }
   ],
   "source": [
    "from sklearn.feature_extraction.text import TfidfTransformer\n",
    "tf_transformer = TfidfTransformer(use_idf=False).fit(X_train_counts)\n",
    "X_train_tf = tf_transformer.transform(X_train_counts)\n",
    "X_train_tf.shape"
   ]
  },
  {
   "cell_type": "markdown",
   "metadata": {},
   "source": [
    "#### Term Frequency times Inverse Document Frequency"
   ]
  },
  {
   "cell_type": "code",
   "execution_count": 26,
   "metadata": {},
   "outputs": [
    {
     "data": {
      "text/plain": [
       "(2257, 35788)"
      ]
     },
     "execution_count": 26,
     "metadata": {},
     "output_type": "execute_result"
    }
   ],
   "source": [
    "tfidf_transformer = TfidfTransformer()\n",
    "X_train_tfidf = tfidf_transformer.fit_transform(X_train_counts)\n",
    "X_train_tfidf.shape"
   ]
  },
  {
   "cell_type": "code",
   "execution_count": 27,
   "metadata": {},
   "outputs": [],
   "source": [
    "from sklearn.naive_bayes import MultinomialNB\n",
    "clf = MultinomialNB().fit(X_train_tfidf, twenty_train.target)"
   ]
  },
  {
   "cell_type": "code",
   "execution_count": 28,
   "metadata": {},
   "outputs": [
    {
     "name": "stdout",
     "output_type": "stream",
     "text": [
      "\"Oh lawd sweet Jesus it's a fire\" => soc.religion.christian\n",
      "'Your graphics card supports current settings at 0 fps' => comp.graphics\n"
     ]
    }
   ],
   "source": [
    "docs_new = ['Oh lawd sweet Jesus it\\'s a fire', 'Your graphics card supports current settings at 0 fps']\n",
    "X_new_counts = count_vect.transform(docs_new)\n",
    "X_new_tfidf = tfidf_transformer.transform(X_new_counts)\n",
    "\n",
    "predicted = clf.predict(X_new_tfidf)\n",
    "\n",
    "for doc, category in zip(docs_new, predicted):\n",
    "    print('%r => %s' % (doc, twenty_train.target_names[category]))"
   ]
  },
  {
   "cell_type": "code",
   "execution_count": 29,
   "metadata": {},
   "outputs": [
    {
     "data": {
      "text/plain": [
       "0.8348868175765646"
      ]
     },
     "execution_count": 29,
     "metadata": {},
     "output_type": "execute_result"
    }
   ],
   "source": [
    "from sklearn.pipeline import Pipeline\n",
    "text_clf = Pipeline([('vect', CountVectorizer()),\n",
    "                     ('tfidf', TfidfTransformer()),\n",
    "                     ('clf', MultinomialNB()),\n",
    "])\n",
    "text_clf.fit(twenty_train.data, twenty_train.target)\n",
    "import numpy as np\n",
    "twenty_test = fetch_20newsgroups(subset='test',\n",
    "    categories=categories, shuffle=True, random_state=42)\n",
    "docs_test = twenty_test.data\n",
    "predicted = text_clf.predict(docs_test)\n",
    "np.mean(predicted == twenty_test.target) "
   ]
  }
 ],
 "metadata": {
  "kernelspec": {
   "display_name": "Python 3",
   "language": "python",
   "name": "python3"
  },
  "language_info": {
   "codemirror_mode": {
    "name": "ipython",
    "version": 3
   },
   "file_extension": ".py",
   "mimetype": "text/x-python",
   "name": "python",
   "nbconvert_exporter": "python",
   "pygments_lexer": "ipython3",
   "version": "3.6.4"
  }
 },
 "nbformat": 4,
 "nbformat_minor": 2
}
