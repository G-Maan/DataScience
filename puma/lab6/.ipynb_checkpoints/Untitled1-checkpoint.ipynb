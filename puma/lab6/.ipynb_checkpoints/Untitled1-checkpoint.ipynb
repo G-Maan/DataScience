{
 "cells": [
  {
   "cell_type": "code",
   "execution_count": 1,
   "metadata": {},
   "outputs": [],
   "source": [
    "import pandas as pd\n",
    "import numpy as np"
   ]
  },
  {
   "cell_type": "code",
   "execution_count": 16,
   "metadata": {},
   "outputs": [
    {
     "name": "stdout",
     "output_type": "stream",
     "text": [
      "   Pregnancies  Glucose  BloodPressure  SkinThickness  Insulin   BMI  \\\n",
      "0            6      148             72             35        0  33.6   \n",
      "1            1       85             66             29        0  26.6   \n",
      "2            8      183             64              0        0  23.3   \n",
      "3            1       89             66             23       94  28.1   \n",
      "4            0      137             40             35      168  43.1   \n",
      "\n",
      "   Pedigree  Age  Outcome  \n",
      "0     0.627   50        1  \n",
      "1     0.351   31        0  \n",
      "2     0.672   32        1  \n",
      "3     0.167   21        0  \n",
      "4     2.288   33        1  \n"
     ]
    },
    {
     "data": {
      "text/plain": [
       "{0, 1}"
      ]
     },
     "execution_count": 16,
     "metadata": {},
     "output_type": "execute_result"
    }
   ],
   "source": [
    "data = pd.read_csv('../../indukcyjne/pima-indians-diabetes.csv')\n",
    "print(data.head())\n",
    "set(data.Outcome)"
   ]
  },
  {
   "cell_type": "markdown",
   "metadata": {},
   "source": [
    "## Gaussian"
   ]
  },
  {
   "cell_type": "code",
   "execution_count": 18,
   "metadata": {},
   "outputs": [],
   "source": [
    "n_0 = data['Outcome'][data['Outcome']==0].count()\n",
    "n_1 = data['Outcome'][data['Outcome']==1].count()\n",
    "total_class = data['Outcome'].count()"
   ]
  },
  {
   "cell_type": "code",
   "execution_count": 22,
   "metadata": {},
   "outputs": [],
   "source": [
    "p_0 = n_0/total_class\n",
    "p_1 = n_1/total_class"
   ]
  },
  {
   "cell_type": "code",
   "execution_count": 25,
   "metadata": {},
   "outputs": [
    {
     "data": {
      "text/html": [
       "<div>\n",
       "<style scoped>\n",
       "    .dataframe tbody tr th:only-of-type {\n",
       "        vertical-align: middle;\n",
       "    }\n",
       "\n",
       "    .dataframe tbody tr th {\n",
       "        vertical-align: top;\n",
       "    }\n",
       "\n",
       "    .dataframe thead th {\n",
       "        text-align: right;\n",
       "    }\n",
       "</style>\n",
       "<table border=\"1\" class=\"dataframe\">\n",
       "  <thead>\n",
       "    <tr style=\"text-align: right;\">\n",
       "      <th></th>\n",
       "      <th>Pregnancies</th>\n",
       "      <th>Glucose</th>\n",
       "      <th>BloodPressure</th>\n",
       "      <th>SkinThickness</th>\n",
       "      <th>Insulin</th>\n",
       "      <th>BMI</th>\n",
       "      <th>Pedigree</th>\n",
       "      <th>Age</th>\n",
       "    </tr>\n",
       "    <tr>\n",
       "      <th>Outcome</th>\n",
       "      <th></th>\n",
       "      <th></th>\n",
       "      <th></th>\n",
       "      <th></th>\n",
       "      <th></th>\n",
       "      <th></th>\n",
       "      <th></th>\n",
       "      <th></th>\n",
       "    </tr>\n",
       "  </thead>\n",
       "  <tbody>\n",
       "    <tr>\n",
       "      <th>0</th>\n",
       "      <td>3.298000</td>\n",
       "      <td>109.980000</td>\n",
       "      <td>68.184000</td>\n",
       "      <td>19.664000</td>\n",
       "      <td>68.792000</td>\n",
       "      <td>30.304200</td>\n",
       "      <td>0.429734</td>\n",
       "      <td>31.190000</td>\n",
       "    </tr>\n",
       "    <tr>\n",
       "      <th>1</th>\n",
       "      <td>4.865672</td>\n",
       "      <td>141.257463</td>\n",
       "      <td>70.824627</td>\n",
       "      <td>22.164179</td>\n",
       "      <td>100.335821</td>\n",
       "      <td>35.142537</td>\n",
       "      <td>0.550500</td>\n",
       "      <td>37.067164</td>\n",
       "    </tr>\n",
       "  </tbody>\n",
       "</table>\n",
       "</div>"
      ],
      "text/plain": [
       "         Pregnancies     Glucose  BloodPressure  SkinThickness     Insulin  \\\n",
       "Outcome                                                                      \n",
       "0           3.298000  109.980000      68.184000      19.664000   68.792000   \n",
       "1           4.865672  141.257463      70.824627      22.164179  100.335821   \n",
       "\n",
       "               BMI  Pedigree        Age  \n",
       "Outcome                                  \n",
       "0        30.304200  0.429734  31.190000  \n",
       "1        35.142537  0.550500  37.067164  "
      ]
     },
     "execution_count": 25,
     "metadata": {},
     "output_type": "execute_result"
    }
   ],
   "source": [
    "data_means = data.groupby('Outcome').mean()\n",
    "data_means"
   ]
  },
  {
   "cell_type": "code",
   "execution_count": 26,
   "metadata": {},
   "outputs": [
    {
     "data": {
      "text/html": [
       "<div>\n",
       "<style scoped>\n",
       "    .dataframe tbody tr th:only-of-type {\n",
       "        vertical-align: middle;\n",
       "    }\n",
       "\n",
       "    .dataframe tbody tr th {\n",
       "        vertical-align: top;\n",
       "    }\n",
       "\n",
       "    .dataframe thead th {\n",
       "        text-align: right;\n",
       "    }\n",
       "</style>\n",
       "<table border=\"1\" class=\"dataframe\">\n",
       "  <thead>\n",
       "    <tr style=\"text-align: right;\">\n",
       "      <th></th>\n",
       "      <th>Pregnancies</th>\n",
       "      <th>Glucose</th>\n",
       "      <th>BloodPressure</th>\n",
       "      <th>SkinThickness</th>\n",
       "      <th>Insulin</th>\n",
       "      <th>BMI</th>\n",
       "      <th>Pedigree</th>\n",
       "      <th>Age</th>\n",
       "    </tr>\n",
       "    <tr>\n",
       "      <th>Outcome</th>\n",
       "      <th></th>\n",
       "      <th></th>\n",
       "      <th></th>\n",
       "      <th></th>\n",
       "      <th></th>\n",
       "      <th></th>\n",
       "      <th></th>\n",
       "      <th></th>\n",
       "    </tr>\n",
       "  </thead>\n",
       "  <tbody>\n",
       "    <tr>\n",
       "      <th>0</th>\n",
       "      <td>9.103403</td>\n",
       "      <td>683.362325</td>\n",
       "      <td>326.274693</td>\n",
       "      <td>221.710525</td>\n",
       "      <td>9774.345427</td>\n",
       "      <td>59.133870</td>\n",
       "      <td>0.089452</td>\n",
       "      <td>136.134168</td>\n",
       "    </tr>\n",
       "    <tr>\n",
       "      <th>1</th>\n",
       "      <td>13.996870</td>\n",
       "      <td>1020.139457</td>\n",
       "      <td>461.897968</td>\n",
       "      <td>312.572195</td>\n",
       "      <td>19234.673319</td>\n",
       "      <td>52.750693</td>\n",
       "      <td>0.138648</td>\n",
       "      <td>120.302588</td>\n",
       "    </tr>\n",
       "  </tbody>\n",
       "</table>\n",
       "</div>"
      ],
      "text/plain": [
       "         Pregnancies      Glucose  BloodPressure  SkinThickness       Insulin  \\\n",
       "Outcome                                                                         \n",
       "0           9.103403   683.362325     326.274693     221.710525   9774.345427   \n",
       "1          13.996870  1020.139457     461.897968     312.572195  19234.673319   \n",
       "\n",
       "               BMI  Pedigree         Age  \n",
       "Outcome                                   \n",
       "0        59.133870  0.089452  136.134168  \n",
       "1        52.750693  0.138648  120.302588  "
      ]
     },
     "execution_count": 26,
     "metadata": {},
     "output_type": "execute_result"
    }
   ],
   "source": [
    "data_variance = data.groupby('Outcome').var()\n",
    "data_variance"
   ]
  },
  {
   "cell_type": "code",
   "execution_count": 33,
   "metadata": {},
   "outputs": [],
   "source": [
    "# means for zero\n",
    "zero_preg_mean = data_means['Pregnancies'][data_variance.index==0].values[0]\n",
    "zero_gluc_mean = data_means['Glucose'][data_variance.index==0].values[0]\n",
    "zero_blood_mean = data_means['BloodPressure'][data_variance.index==0].values[0]\n",
    "zero_skin_mean = data_means['SkinThickness'][data_variance.index==0].values[0]\n",
    "zero_insulin_mean = data_means['Insulin'][data_variance.index==0].values[0]\n",
    "zero_bmi_mean = data_means['BMI'][data_variance.index==0].values[0]\n",
    "zero_pedigree_mean = data_means['Pedigree'][data_variance.index==0].values[0]\n",
    "zero_age_mean = data_means['Age'][data_variance.index==0].values[0]\n",
    "# variance for zero\n",
    "zero_preg_var = data_variance['Pregnancies'][data_variance.index==0].values[0]\n",
    "zero_gluc_var = data_variance['Glucose'][data_variance.index==0].values[0]\n",
    "zero_blood_var = data_variance['BloodPressure'][data_variance.index==0].values[0]\n",
    "zero_skin_var = data_variance['SkinThickness'][data_variance.index==0].values[0]\n",
    "zero_insulin_var = data_variance['Insulin'][data_variance.index==0].values[0]\n",
    "zero_bmi_var = data_variance['BMI'][data_variance.index==0].values[0]\n",
    "zero_pedigree_var = data_variance['Pedigree'][data_variance.index==0].values[0]\n",
    "zero_age_var = data_variance['Age'][data_variance.index==0].values[0]\n",
    "\n",
    "# means for one\n",
    "one_preg_mean = data_means['Pregnancies'][data_variance.index==1].values[0]\n",
    "one_gluc_mean = data_means['Glucose'][data_variance.index==1].values[0]\n",
    "one_blood_mean = data_means['BloodPressure'][data_variance.index==1].values[0]\n",
    "one_skin_mean = data_means['SkinThickness'][data_variance.index==1].values[0]\n",
    "one_insulin_mean = data_means['Insulin'][data_variance.index==1].values[0]\n",
    "one_bmi_mean = data_means['BMI'][data_variance.index==1].values[0]\n",
    "one_pedigree_mean = data_means['Pedigree'][data_variance.index==1].values[0]\n",
    "one_age_mean = data_means['Age'][data_variance.index==1].values[0]\n",
    "# variance for one\n",
    "one_preg_var = data_variance['Pregnancies'][data_variance.index==1].values[0]\n",
    "one_gluc_var = data_variance['Glucose'][data_variance.index==1].values[0]\n",
    "one_blood_var = data_variance['BloodPressure'][data_variance.index==1].values[0]\n",
    "one_skin_var = data_variance['SkinThickness'][data_variance.index==1].values[0]\n",
    "one_insulin_var = data_variance['Insulin'][data_variance.index==1].values[0]\n",
    "one_bmi_var = data_variance['BMI'][data_variance.index==1].values[0]\n",
    "one_pedigree_var = data_variance['Pedigree'][data_variance.index==1].values[0]\n",
    "one_age_var = data_variance['Age'][data_variance.index==1].values[0]"
   ]
  },
  {
   "cell_type": "code",
   "execution_count": 45,
   "metadata": {},
   "outputs": [],
   "source": [
    "# Create a function that calculates p(x | y):\n",
    "def p_x_given_y(x, mean_y, variance_y):\n",
    "\n",
    "    # Input the arguments into a probability density function\n",
    "    p = 1/(np.sqrt(2*np.pi*variance_y)) * np.exp((-(x-mean_y)**2)/(2*variance_y))\n",
    "    \n",
    "    # return p\n",
    "    return p"
   ]
  },
  {
   "cell_type": "code",
   "execution_count": 48,
   "metadata": {},
   "outputs": [
    {
     "name": "stdout",
     "output_type": "stream",
     "text": [
      "0.76171875\n"
     ]
    }
   ],
   "source": [
    "summ = 0\n",
    "max_prob = 0\n",
    "max_class = 0\n",
    "for i in range(len(data)):\n",
    "    prob_0 = p_0 * p_x_given_y(data['Pregnancies'][i], zero_preg_mean, zero_preg_var) * \\\n",
    "    p_x_given_y(data['Glucose'][i], zero_gluc_mean, zero_gluc_var) * \\\n",
    "    p_x_given_y(data['BloodPressure'][i], zero_blood_mean, zero_blood_var) * \\\n",
    "    p_x_given_y(data['SkinThickness'][i], zero_skin_mean, zero_skin_var) * \\\n",
    "    p_x_given_y(data['Insulin'][i], zero_insulin_mean, zero_insulin_var) * \\\n",
    "    p_x_given_y(data['BMI'][i], zero_bmi_mean, zero_bmi_var) * \\\n",
    "    p_x_given_y(data['Pedigree'][i], zero_pedigree_mean, zero_pedigree_var) * \\\n",
    "    p_x_given_y(data['Age'][i], zero_age_mean, zero_age_var)\n",
    "    \n",
    "    prob_1 = p_1 * p_x_given_y(data['Pregnancies'][i], one_preg_mean, one_preg_var) * \\\n",
    "    p_x_given_y(data['Glucose'][i], one_gluc_mean, one_gluc_var) * \\\n",
    "    p_x_given_y(data['BloodPressure'][i], one_blood_mean, one_blood_var) * \\\n",
    "    p_x_given_y(data['SkinThickness'][i], one_skin_mean, one_skin_var) * \\\n",
    "    p_x_given_y(data['Insulin'][i], one_insulin_mean, one_insulin_var) * \\\n",
    "    p_x_given_y(data['BMI'][i], one_bmi_mean, one_bmi_var) * \\\n",
    "    p_x_given_y(data['Pedigree'][i], one_pedigree_mean, one_pedigree_var) * \\\n",
    "    p_x_given_y(data['Age'][i], one_age_mean, one_age_var)\n",
    "    \n",
    "    if prob_0 > prob_1:\n",
    "        max_prob = prob_0\n",
    "        max_class = 0\n",
    "    else:\n",
    "        max_prob = prob_1\n",
    "        max_class = 1\n",
    "    if max_class == data['Outcome'][i]:\n",
    "        summ += 1\n",
    "print(summ/total_class)"
   ]
  },
  {
   "cell_type": "markdown",
   "metadata": {},
   "source": [
    "## Multinomial"
   ]
  },
  {
   "cell_type": "code",
   "execution_count": 272,
   "metadata": {},
   "outputs": [
    {
     "name": "stdout",
     "output_type": "stream",
     "text": [
      "Accuracy: 0.8176795580110497 Precision: 0.5460484471823948 Recall: 0.6887528822173075 F1: 0.5890388317924549\n"
     ]
    }
   ],
   "source": [
    "import numpy as np\n",
    "from collections import Counter, defaultdict\n",
    "from sklearn.metrics import precision_score, accuracy_score, f1_score, recall_score, confusion_matrix\n",
    "\n",
    "def occurrences(list1):\n",
    "    total = len(list1)\n",
    "    prob = dict(Counter(list1))\n",
    "    for key in prob.keys():\n",
    "        prob[key] = prob[key] / total\n",
    "    return prob\n",
    "\n",
    "def choose_max(class_probabilities):\n",
    "    max_prob = 0\n",
    "    max_class = 0\n",
    "    for c in class_probabilities:\n",
    "        if (class_probabilities[c] > max_prob):\n",
    "            max_prob = class_probabilities[c]\n",
    "            max_class = c\n",
    "    return max_class, max_prob\n",
    "\n",
    "def split(data):\n",
    "    msk = np.random.rand(len(data)) < 0.8\n",
    "    train = data[msk]\n",
    "    test = data[~msk]\n",
    "    return train, test\n",
    "\n",
    "def calculate_acc(actual_labels, pred_labels):\n",
    "    total = len(actual_labels)\n",
    "    summ = 0\n",
    "    for act, pred in zip(actual_labels, pred_labels):\n",
    "        if act == pred:\n",
    "            summ += 1\n",
    "    return summ / total\n",
    "\n",
    "def naive_bayes(training, outcome, test, test_outcome):\n",
    "    classes = np.unique(outcome)\n",
    "    rows, cols = np.shape(training)\n",
    "    likelihoods = {}\n",
    "    for cls in classes:\n",
    "        likelihoods[cls] = defaultdict(list)\n",
    " \n",
    "    class_probabilities = occurrences(outcome)\n",
    " \n",
    "    for cls in classes:\n",
    "        row_indices = np.where(outcome == cls)[0]\n",
    "        subset = training[row_indices, :]\n",
    "        r, c = np.shape(subset)\n",
    "        for j in range(0,c):\n",
    "            likelihoods[cls][j] += list(subset[:,j])\n",
    "        \n",
    " \n",
    "    for cls in classes:\n",
    "        for j in range(0,cols):\n",
    "             likelihoods[cls][j] = occurrences(likelihoods[cls][j]) # prob of attr occurence given a class\n",
    "    \n",
    "#     for k in likelihoods:\n",
    "#         print(k)\n",
    "#         print(likelihoods[k])\n",
    " \n",
    "    results = {}\n",
    "    row_result = []\n",
    "    for row in test: # rows\n",
    "        for cls in classes: # classes * row\n",
    "            class_probability = class_probabilities[cls] # prior\n",
    "            for i in range(0,len(row)): # attributes\n",
    "                attr_class_prob = likelihoods[cls][i]\n",
    "                if row[i] in attr_class_prob.keys():\n",
    "                     class_probability *= attr_class_prob[row[i]]\n",
    "                else:\n",
    "                     class_probability *= 0\n",
    "                results[cls] = class_probability\n",
    "            result = choose_max(results)\n",
    "        row_result.append(result)\n",
    "    \n",
    "    pred_vals = []\n",
    "    for i,j in row_result:\n",
    "        pred_vals.append(i)\n",
    "    \n",
    "    acc = calculate_acc(pred_vals, test_labels)\n",
    "    cm = confusion_matrix(pred_vals, test_labels)\n",
    "    f1 = f1_score(pred_vals, test_labels, average=\"macro\")\n",
    "    precision = precision_score(pred_vals, test_labels, average=\"macro\")\n",
    "    recall = recall_score(pred_vals, test_labels, average=\"macro\")\n",
    "    accuracy = accuracy_score(pred_vals, test_labels)\n",
    "\n",
    "    return accuracy, precision, recall, f1\n",
    "\n",
    "cars = pd.read_csv('cars.csv')\n",
    "train, test = split(cars)\n",
    "train_labels = train['Class'].as_matrix()\n",
    "train_attr = train.drop(['Class'], axis=1).as_matrix()\n",
    "test_labels = test['Class'].as_matrix()\n",
    "test_attr = test.drop(['Class'], axis=1).as_matrix()\n",
    "acc,prec,rec,f1 = naive_bayes(train_attr, train_labels, test_attr, test_labels)\n",
    "print('Accuracy: %s Precision: %s Recall: %s F1: %s' % (acc,prec,rec,f1))"
   ]
  }
 ],
 "metadata": {
  "kernelspec": {
   "display_name": "Python 3",
   "language": "python",
   "name": "python3"
  },
  "language_info": {
   "codemirror_mode": {
    "name": "ipython",
    "version": 3
   },
   "file_extension": ".py",
   "mimetype": "text/x-python",
   "name": "python",
   "nbconvert_exporter": "python",
   "pygments_lexer": "ipython3",
   "version": "3.6.4"
  }
 },
 "nbformat": 4,
 "nbformat_minor": 2
}
